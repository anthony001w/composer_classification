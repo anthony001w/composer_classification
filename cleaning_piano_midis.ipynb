{
 "cells": [
  {
   "cell_type": "markdown",
   "metadata": {
    "id": "GKZaCQaQLpSB"
   },
   "source": [
    "### Midi File Loading - **Don't need to run, see loading blocks below**"
   ]
  },
  {
   "cell_type": "code",
   "execution_count": 368,
   "metadata": {
    "colab": {
     "base_uri": "https://localhost:8080/"
    },
    "id": "P38XuT8Zpkt8",
    "outputId": "5ca70614-0f8b-4ce6-8004-4419a9dcea92"
   },
   "outputs": [],
   "source": [
    "from mido import MidiFile\n",
    "import os\n",
    "from tqdm import tqdm\n",
    "\n",
    "#takes in a directory and loads all the midi files in it\n",
    "def load_midis(directory):\n",
    "  full_dir = 'Data/' + directory\n",
    "  #assumes all files in the dir are midis\n",
    "  m_list = []\n",
    "  #load and turn each midi into a midi object\n",
    "  for f in tqdm(os.listdir(full_dir), position = 0, leave = True):\n",
    "    m_list.append(MidiFile(full_dir + '/' + f))\n",
    "  return m_list"
   ]
  },
  {
   "cell_type": "code",
   "execution_count": 369,
   "metadata": {
    "colab": {
     "base_uri": "https://localhost:8080/"
    },
    "id": "Us6661yYQJ4v",
    "outputId": "27c89110-11b1-48ff-fc13-9b7295b2aa42"
   },
   "outputs": [
    {
     "data": {
      "text/plain": [
       "['ChopinKeyboard',\n",
       " 'SchumannKeyboard',\n",
       " 'BeethovenKeyboard',\n",
       " 'BachKeyboard',\n",
       " 'MozartKeyboard',\n",
       " 'CzernyKeyboard',\n",
       " 'SatieKeyboard',\n",
       " 'SchubertKeyboard',\n",
       " 'RachmaninoffKeyboard']"
      ]
     },
     "execution_count": 369,
     "metadata": {},
     "output_type": "execute_result"
    }
   ],
   "source": [
    "import re\n",
    "\n",
    "#which folders to use?\n",
    "possible_dirs = os.listdir('Data/')\n",
    "composer_names = []\n",
    "composer_dirs = []\n",
    "\n",
    "for d in possible_dirs:\n",
    "  u = re.match('(\\w+)Keyboard', d)\n",
    "  if u and len(os.listdir('Data/' + d)) > 0:\n",
    "    composer_names.append(u.groups(0)[0].lower())\n",
    "    composer_dirs.append(d)\n",
    "composer_dirs"
   ]
  },
  {
   "cell_type": "code",
   "execution_count": 370,
   "metadata": {
    "colab": {
     "base_uri": "https://localhost:8080/"
    },
    "id": "ho7ZKa_FRTai",
    "outputId": "391ac447-3421-4f41-b274-588c1099aa20"
   },
   "outputs": [
    {
     "name": "stderr",
     "output_type": "stream",
     "text": [
      "100%|██████████| 47/47 [00:01<00:00, 38.13it/s]\n",
      "100%|██████████| 34/34 [00:00<00:00, 77.75it/s]\n",
      "100%|██████████| 42/42 [00:02<00:00, 19.16it/s]\n",
      "100%|██████████| 125/125 [00:01<00:00, 74.77it/s]\n",
      "100%|██████████| 34/34 [00:01<00:00, 31.25it/s]\n",
      "100%|██████████| 31/31 [00:00<00:00, 138.59it/s]\n",
      "100%|██████████| 16/16 [00:00<00:00, 99.80it/s]\n",
      "100%|██████████| 50/50 [00:02<00:00, 20.79it/s]\n",
      "100%|██████████| 10/10 [00:00<00:00, 25.33it/s]\n"
     ]
    }
   ],
   "source": [
    "composer_midis = []\n",
    "\n",
    "for directory in composer_dirs:\n",
    "  composer_midis.append(load_midis(directory))"
   ]
  },
  {
   "cell_type": "markdown",
   "metadata": {
    "id": "H54zQgCBLvj6"
   },
   "source": [
    "### Conversion to DF - **Don't need to run**"
   ]
  },
  {
   "cell_type": "code",
   "execution_count": 371,
   "metadata": {
    "id": "Uw0nZHqfpy6F"
   },
   "outputs": [],
   "source": [
    "import numpy as np\n",
    "import pandas as pd\n",
    "import time\n",
    "\n",
    "def extract_tracks(mido_file):\n",
    "  # extract all tracks and messages and the filename\n",
    "  msg_list = []\n",
    "  #meta currently unused, but can be used to extract key information\n",
    "  meta = []\n",
    "  for track in mido_file.tracks:\n",
    "    msgs = [msg for msg in track if not msg.is_meta]\n",
    "    meta = [msg for msg in track if msg.is_meta]\n",
    "    if msgs:\n",
    "      msg_list.append((mido_file.filename, msgs))\n",
    "  #returns a dictionary of filenames:msg_list\n",
    "  return msg_list\n",
    "\n",
    "#takes in list of list of messages\n",
    "#returns a list of dataframes containing each track's info\n",
    "def extract_dfs(track_pairs, composer_name):\n",
    "  #this is dumb but im lazy to change it\n",
    "  mido_df = pd.DataFrame(track_pairs, columns = ['filename','track'])\n",
    "  mido_df.track = [pd.Series(t).astype(str) for t in mido_df.track]\n",
    "  def track_to_df(track):\n",
    "    split_track = track.str.split()\n",
    "    n_cols = len(split_track[0]) - 1\n",
    "    split_track = split_track[split_track.apply(lambda l: l[0] == 'note_on' or l[0] == 'note_off')]\n",
    "    val_cols = split_track.apply(lambda l: l[1:])\n",
    "    track_df = pd.DataFrame(val_cols.to_list())\n",
    "    cleaned = track_df.apply(lambda c: c.str.split('=')).applymap(lambda r: int(r[1]))\n",
    "    try:\n",
    "      cleaned.columns = ['channel', 'note', 'velocity', 'time']\n",
    "    except:\n",
    "      return None\n",
    "    cleaned['note_type'] = split_track.apply(lambda l: l[0]).values\n",
    "    cleaned['cumtime'] = cleaned['time'].cumsum()\n",
    "    cleaned = cleaned[cleaned['note'] != 0]\n",
    "    return cleaned\n",
    "  mido_df['dataframes'] = mido_df.track.apply(track_to_df)\n",
    "  mido_df = mido_df[mido_df.track != None]\n",
    "  #returns filename: dataframe pair\n",
    "  return mido_df['filename'][0], pd.concat(mido_df.dataframes.values).sort_values(by = 'cumtime'), composer_name"
   ]
  },
  {
   "cell_type": "code",
   "execution_count": 372,
   "metadata": {
    "colab": {
     "base_uri": "https://localhost:8080/"
    },
    "id": "owvRMMAAhmxS",
    "outputId": "0398535d-4f0f-40a0-d339-b53e0759db0f"
   },
   "outputs": [
    {
     "name": "stderr",
     "output_type": "stream",
     "text": [
      "100%|██████████| 47/47 [00:01<00:00, 24.49it/s]\n",
      "100%|██████████| 34/34 [00:00<00:00, 38.51it/s]\n",
      "100%|██████████| 42/42 [00:10<00:00,  3.93it/s]\n",
      "100%|██████████| 125/125 [00:03<00:00, 37.78it/s]\n",
      "100%|██████████| 34/34 [00:01<00:00, 19.34it/s]\n",
      "100%|██████████| 31/31 [00:00<00:00, 49.23it/s]\n",
      "100%|██████████| 16/16 [00:00<00:00, 40.33it/s]\n",
      "100%|██████████| 50/50 [00:03<00:00, 13.67it/s]\n",
      "100%|██████████| 10/10 [00:04<00:00,  2.41it/s]\n"
     ]
    },
    {
     "name": "stdout",
     "output_type": "stream",
     "text": [
      "Time Elapsed:  27.92367720603943 s\n"
     ]
    }
   ],
   "source": [
    "tic = time.time()\n",
    "composer_pieces = pd.concat([pd.DataFrame([extract_dfs(extract_tracks(m), composer_names[i]) for m in tqdm(composer_midis[i], leave = True, position = 0)]) for i in range(len(composer_midis))])\n",
    "toc = time.time()\n",
    "print('Time Elapsed: ',toc-tic,'s')"
   ]
  },
  {
   "cell_type": "code",
   "execution_count": 373,
   "metadata": {
    "id": "q4nohY8Cfie2"
   },
   "outputs": [],
   "source": [
    "#to convert to notes:\n",
    "#determine if it specifies note_on note_off or just note_on\n",
    "#split each dataset by track (channel) and there should only really be 2\n",
    "#for note_on/note_off types, simply calculate the length of each note_on by finding the diff in cumtime of the note_off\n",
    "#for note_on types, find the next note and subtract the cumtimes to get the length\n",
    "\n",
    "def noteon_only(piece):\n",
    "  return len(piece['note_type'].unique()) == 1\n",
    "\n",
    "def freq_to_note(piece):\n",
    "  noteons = noteon_only(piece)\n",
    "  p = piece.reset_index().drop(columns = 'index')\n",
    "  h = p.groupby('note')\n",
    "  #within each group, split into note_ons and note_offs then subtract to obtain lengths\n",
    "  #preserve the note_on index for proper merging into the original dataframe\n",
    "  def get_lengths(group):\n",
    "    if not noteons:\n",
    "      gon, goff = group[group.note_type == 'note_on'], group[group.note_type == 'note_off']\n",
    "    else:\n",
    "      gon = group[group.velocity != 0]\n",
    "      goff = group[group.velocity == 0]\n",
    "    if len(gon) != len(goff):\n",
    "      #fix midi's messy action recording by pairing ons with offs that are above each on\n",
    "      #basically default to slow process\n",
    "      lengths = []\n",
    "      used_offs = set()\n",
    "      for i, g in gon.iterrows():\n",
    "        above = goff[(goff.cumtime > g.cumtime) & (~goff.index.isin(used_offs))]\n",
    "        used_offs.add(above.index[0])\n",
    "        lengths.append(above.iloc[0].cumtime - g.cumtime)\n",
    "      return pd.Series(lengths, index = gon.index)\n",
    "    return goff.cumtime.values - gon.cumtime\n",
    "  f = h.apply(get_lengths)\n",
    "  lengths = pd.Series(f.values, f.index.get_level_values(1))\n",
    "  p['length'] = lengths\n",
    "  p = p[~p['length'].isnull()]\n",
    "  return p\n",
    "\n",
    "def freq_to_notes(piece_list):\n",
    "  conv_list = []\n",
    "  for piece in tqdm(piece_list, leave = True, position = 0):\n",
    "    conv_list.append(freq_to_note(piece))\n",
    "  return conv_list"
   ]
  },
  {
   "cell_type": "code",
   "execution_count": 374,
   "metadata": {
    "colab": {
     "base_uri": "https://localhost:8080/"
    },
    "id": "edskrKsj8tK6",
    "outputId": "c6e55b85-950c-44ef-d435-452e1894bf47"
   },
   "outputs": [
    {
     "name": "stderr",
     "output_type": "stream",
     "text": [
      "100%|██████████| 389/389 [00:27<00:00, 14.13it/s]\n"
     ]
    }
   ],
   "source": [
    "composer_pieces['key_presses'] = freq_to_notes(composer_pieces[1])"
   ]
  },
  {
   "cell_type": "code",
   "execution_count": 397,
   "metadata": {},
   "outputs": [
    {
     "name": "stderr",
     "output_type": "stream",
     "text": [
      "100%|██████████| 389/389 [00:30<00:00, 12.61it/s]\n"
     ]
    }
   ],
   "source": [
    "def merge_times(chunk):\n",
    "    possible_notes = np.arange(15,116)\n",
    "    new_cols = {}\n",
    "    for n in possible_notes:\n",
    "        new_cols[n] = (chunk.note == n).astype(int)\n",
    "    new_chunk = pd.concat([pd.DataFrame(new_cols),chunk],axis=1).drop(columns='note')\n",
    "    #merge based on cumtime\n",
    "    agg_dict = {}\n",
    "    for col in new_chunk.columns[:101]:\n",
    "        agg_dict[col] = 'sum'\n",
    "    for col in new_chunk.columns[101:]:\n",
    "        agg_dict[col] = 'first'\n",
    "    return new_chunk.groupby('cumtime').agg(agg_dict)\n",
    "\n",
    "merged = []\n",
    "for ch in tqdm(composer_pieces.key_presses, leave = True, position = 0):\n",
    "    merged.append(merge_times(ch))\n",
    "composer_pieces['merged'] = merged"
   ]
  },
  {
   "cell_type": "markdown",
   "metadata": {
    "id": "I34DerpKml2K"
   },
   "source": [
    "### Start here, load in the dfs"
   ]
  },
  {
   "cell_type": "code",
   "execution_count": 398,
   "metadata": {
    "id": "ZqWrECIerc4h"
   },
   "outputs": [],
   "source": [
    "import pandas as pd\n",
    "import numpy as np\n",
    "from joblib import dump, load\n",
    "\n",
    "#start here\n",
    "#only run this dump stuff if you ran the previous cells to update how the dataframes are constructed\n",
    "#dump(composer_pieces, 'Data/composer_dfs')\n",
    "composer_dfs = load('Data/composer_dfs')"
   ]
  },
  {
   "cell_type": "code",
   "execution_count": 354,
   "metadata": {},
   "outputs": [
    {
     "data": {
      "text/html": [
       "<div>\n",
       "<style scoped>\n",
       "    .dataframe tbody tr th:only-of-type {\n",
       "        vertical-align: middle;\n",
       "    }\n",
       "\n",
       "    .dataframe tbody tr th {\n",
       "        vertical-align: top;\n",
       "    }\n",
       "\n",
       "    .dataframe thead th {\n",
       "        text-align: right;\n",
       "    }\n",
       "</style>\n",
       "<table border=\"1\" class=\"dataframe\">\n",
       "  <thead>\n",
       "    <tr style=\"text-align: right;\">\n",
       "      <th></th>\n",
       "      <th>0</th>\n",
       "      <th>1</th>\n",
       "      <th>2</th>\n",
       "      <th>key_presses</th>\n",
       "    </tr>\n",
       "  </thead>\n",
       "  <tbody>\n",
       "    <tr>\n",
       "      <th>0</th>\n",
       "      <td>Data/ChopinKeyboard/Chop-28-8.mid</td>\n",
       "      <td>channel  note  velocity  time note_type ...</td>\n",
       "      <td>chopin</td>\n",
       "      <td>channel  note  velocity  time note_type ...</td>\n",
       "    </tr>\n",
       "    <tr>\n",
       "      <th>1</th>\n",
       "      <td>Data/ChopinKeyboard/Chop-28-23.mid</td>\n",
       "      <td>channel  note  velocity  time note_type  ...</td>\n",
       "      <td>chopin</td>\n",
       "      <td>channel  note  velocity  time note_type ...</td>\n",
       "    </tr>\n",
       "    <tr>\n",
       "      <th>2</th>\n",
       "      <td>Data/ChopinKeyboard/Chop-28-22.mid</td>\n",
       "      <td>channel  note  velocity  time note_type  ...</td>\n",
       "      <td>chopin</td>\n",
       "      <td>channel  note  velocity  time note_type ...</td>\n",
       "    </tr>\n",
       "    <tr>\n",
       "      <th>3</th>\n",
       "      <td>Data/ChopinKeyboard/10-02-i.mid</td>\n",
       "      <td>channel  note  velocity  time note_type ...</td>\n",
       "      <td>chopin</td>\n",
       "      <td>channel  note  velocity  time note_type ...</td>\n",
       "    </tr>\n",
       "    <tr>\n",
       "      <th>4</th>\n",
       "      <td>Data/ChopinKeyboard/Chop-28-9.mid</td>\n",
       "      <td>channel  note  velocity  time note_type  ...</td>\n",
       "      <td>chopin</td>\n",
       "      <td>channel  note  velocity  time note_type  ...</td>\n",
       "    </tr>\n",
       "    <tr>\n",
       "      <th>...</th>\n",
       "      <td>...</td>\n",
       "      <td>...</td>\n",
       "      <td>...</td>\n",
       "      <td>...</td>\n",
       "    </tr>\n",
       "    <tr>\n",
       "      <th>5</th>\n",
       "      <td>Data/RachmaninoffKeyboard/rach-prelude23-02.mid</td>\n",
       "      <td>channel  note  velocity  time note_type ...</td>\n",
       "      <td>rachmaninoff</td>\n",
       "      <td>channel  note  velocity  time note_type ...</td>\n",
       "    </tr>\n",
       "    <tr>\n",
       "      <th>6</th>\n",
       "      <td>Data/RachmaninoffKeyboard/rach-prelude23-01.mid</td>\n",
       "      <td>channel  note  velocity  time note_type ...</td>\n",
       "      <td>rachmaninoff</td>\n",
       "      <td>channel  note  velocity  time note_type ...</td>\n",
       "    </tr>\n",
       "    <tr>\n",
       "      <th>7</th>\n",
       "      <td>Data/RachmaninoffKeyboard/rach-prelude-op3-no2...</td>\n",
       "      <td>channel  note  velocity  time note_type ...</td>\n",
       "      <td>rachmaninoff</td>\n",
       "      <td>channel  note  velocity  time note_type ...</td>\n",
       "    </tr>\n",
       "    <tr>\n",
       "      <th>8</th>\n",
       "      <td>Data/RachmaninoffKeyboard/rach-prelude23-09.mid</td>\n",
       "      <td>channel  note  velocity  time note_type ...</td>\n",
       "      <td>rachmaninoff</td>\n",
       "      <td>channel  note  velocity  time note_type ...</td>\n",
       "    </tr>\n",
       "    <tr>\n",
       "      <th>9</th>\n",
       "      <td>Data/RachmaninoffKeyboard/rach-prelude23-08.mid</td>\n",
       "      <td>channel  note  velocity  time note_type ...</td>\n",
       "      <td>rachmaninoff</td>\n",
       "      <td>channel  note  velocity  time note_type ...</td>\n",
       "    </tr>\n",
       "  </tbody>\n",
       "</table>\n",
       "<p>389 rows × 4 columns</p>\n",
       "</div>"
      ],
      "text/plain": [
       "                                                    0  \\\n",
       "0                   Data/ChopinKeyboard/Chop-28-8.mid   \n",
       "1                  Data/ChopinKeyboard/Chop-28-23.mid   \n",
       "2                  Data/ChopinKeyboard/Chop-28-22.mid   \n",
       "3                     Data/ChopinKeyboard/10-02-i.mid   \n",
       "4                   Data/ChopinKeyboard/Chop-28-9.mid   \n",
       "..                                                ...   \n",
       "5     Data/RachmaninoffKeyboard/rach-prelude23-02.mid   \n",
       "6     Data/RachmaninoffKeyboard/rach-prelude23-01.mid   \n",
       "7   Data/RachmaninoffKeyboard/rach-prelude-op3-no2...   \n",
       "8     Data/RachmaninoffKeyboard/rach-prelude23-09.mid   \n",
       "9     Data/RachmaninoffKeyboard/rach-prelude23-08.mid   \n",
       "\n",
       "                                                    1             2  \\\n",
       "0         channel  note  velocity  time note_type ...        chopin   \n",
       "1        channel  note  velocity  time note_type  ...        chopin   \n",
       "2        channel  note  velocity  time note_type  ...        chopin   \n",
       "3         channel  note  velocity  time note_type ...        chopin   \n",
       "4        channel  note  velocity  time note_type  ...        chopin   \n",
       "..                                                ...           ...   \n",
       "5         channel  note  velocity  time note_type ...  rachmaninoff   \n",
       "6         channel  note  velocity  time note_type ...  rachmaninoff   \n",
       "7         channel  note  velocity  time note_type ...  rachmaninoff   \n",
       "8         channel  note  velocity  time note_type ...  rachmaninoff   \n",
       "9         channel  note  velocity  time note_type ...  rachmaninoff   \n",
       "\n",
       "                                          key_presses  \n",
       "0         channel  note  velocity  time note_type ...  \n",
       "1         channel  note  velocity  time note_type ...  \n",
       "2         channel  note  velocity  time note_type ...  \n",
       "3         channel  note  velocity  time note_type ...  \n",
       "4        channel  note  velocity  time note_type  ...  \n",
       "..                                                ...  \n",
       "5         channel  note  velocity  time note_type ...  \n",
       "6         channel  note  velocity  time note_type ...  \n",
       "7         channel  note  velocity  time note_type ...  \n",
       "8         channel  note  velocity  time note_type ...  \n",
       "9         channel  note  velocity  time note_type ...  \n",
       "\n",
       "[389 rows x 4 columns]"
      ]
     },
     "execution_count": 354,
     "metadata": {},
     "output_type": "execute_result"
    }
   ],
   "source": [
    "composer_dfs"
   ]
  },
  {
   "cell_type": "code",
   "execution_count": 353,
   "metadata": {
    "colab": {
     "base_uri": "https://localhost:8080/",
     "height": 370
    },
    "id": "e1UkaR7mL1WN",
    "outputId": "f9e40d9b-0b54-4d02-b814-efb88409149a"
   },
   "outputs": [
    {
     "name": "stderr",
     "output_type": "stream",
     "text": [
      "100%|██████████| 900/900 [00:11<00:00, 80.66it/s]\n"
     ]
    },
    {
     "data": {
      "image/png": "[encoded data removed]",
      "text/plain": [
       "<Figure size 432x288 with 1 Axes>"
      ]
     },
     "metadata": {
      "needs_background": "light"
     },
     "output_type": "display_data"
    }
   ],
   "source": [
    "import seaborn as sns\n",
    "from matplotlib import pyplot as plt\n",
    "\n",
    "#how many fragments can we generate, essentially how large is our dataset\n",
    "#sliding a time window over our data (size = n)\n",
    "\n",
    "def n_fragments(pieces, n = 5000, ov = 0.5):\n",
    "    piece_lengths = np.array(pieces.apply(lambda p: p.cumtime.max()))\n",
    "    if ov > 0:\n",
    "        return (piece_lengths // n / ov).sum()\n",
    "    else:\n",
    "        return (piece_lengths // n).sum()\n",
    "\n",
    "possible_range = np.arange(1000,10000,10)\n",
    "frags = []\n",
    "for g in tqdm(possible_range, position = 0, leave = True):\n",
    "    s = 0\n",
    "    s += n_fragments(composer_dfs.key_presses, g)\n",
    "    frags.append(s)\n",
    "ax = sns.lineplot(x = possible_range, y = frags, label = 'n fragments')\n",
    "_=plt.xlabel('window size with overlap 0.5')"
   ]
  },
  {
   "cell_type": "code",
   "execution_count": 367,
   "metadata": {
    "id": "LdMuZ8jayub0"
   },
   "outputs": [],
   "source": [
    "#break up pieces into chunks\n",
    "\n",
    "#takes in a whole piece and spits out a dataframe of chunks\n",
    "#using a sliding time window \n",
    "#optional overlap argument\n",
    "def piece_to_chunk(piece, n = 5000, ov = 0, min_notes = 10):\n",
    "    chunks = []\n",
    "    piece_data = piece['key_presses'].copy()\n",
    "    i = 1\n",
    "    sliced = 0\n",
    "    while len(piece_data) > min_notes:\n",
    "        #only uses chunks with at least min_notes\n",
    "        below = piece_data[piece_data.cumtime <= sliced + n]\n",
    "        if len(below) >= min_notes:\n",
    "            chunks.append([piece[2], piece[0], below])\n",
    "        if ov > 0:\n",
    "            sliced += n*(1 - ov)\n",
    "        else:\n",
    "            sliced += n\n",
    "        piece_data = piece_data[piece_data.cumtime > sliced]\n",
    "    return pd.DataFrame(chunks)\n",
    "\n",
    "from joblib import Parallel, delayed\n",
    "\n",
    "#takes in a dataframe of filename,data,key_presses,composer_name\n",
    "#returns the expanded version of chunks\n",
    "def chunk(all_pieces, n = 5000, ov = 0, min_notes = 10):\n",
    "    chunks = []\n",
    "    for i, c in tqdm(all_pieces.iterrows(),leave=True,position=0):\n",
    "        chunks.append(piece_to_chunk(c,n,ov,min_notes))\n",
    "    return pd.concat(chunks)"
   ]
  },
  {
   "cell_type": "code",
   "execution_count": 325,
   "metadata": {
    "colab": {
     "base_uri": "https://localhost:8080/"
    },
    "id": "gYUnrDLbZJLm",
    "outputId": "669a51f2-67db-4285-aa78-052d14ba8c0d"
   },
   "outputs": [
    {
     "name": "stderr",
     "output_type": "stream",
     "text": [
      "47it [00:00, 57.57it/s]\n",
      "34it [00:00, 115.50it/s]\n",
      "42it [00:01, 22.81it/s]\n",
      "125it [00:01, 92.76it/s]\n",
      "34it [00:00, 43.93it/s]\n",
      "31it [00:00, 226.32it/s]\n",
      "16it [00:00, 92.40it/s]\n",
      "43it [22:57, 32.03s/it]2487 [00:13<00:01, 4868.64it/s]\n",
      "50it [00:06,  7.78it/s]\n",
      "10it [00:00, 61.04it/s]\n"
     ]
    },
    {
     "data": {
      "text/html": [
       "<div>\n",
       "<style scoped>\n",
       "    .dataframe tbody tr th:only-of-type {\n",
       "        vertical-align: middle;\n",
       "    }\n",
       "\n",
       "    .dataframe tbody tr th {\n",
       "        vertical-align: top;\n",
       "    }\n",
       "\n",
       "    .dataframe thead th {\n",
       "        text-align: right;\n",
       "    }\n",
       "</style>\n",
       "<table border=\"1\" class=\"dataframe\">\n",
       "  <thead>\n",
       "    <tr style=\"text-align: right;\">\n",
       "      <th></th>\n",
       "      <th>filename</th>\n",
       "      <th>data</th>\n",
       "      <th>Composer</th>\n",
       "    </tr>\n",
       "  </thead>\n",
       "  <tbody>\n",
       "    <tr>\n",
       "      <th>0</th>\n",
       "      <td>Data/ChopinKeyboard/Chop-28-8.mid</td>\n",
       "      <td>channel  note  velocity  time note_type  ...</td>\n",
       "      <td>chopin</td>\n",
       "    </tr>\n",
       "    <tr>\n",
       "      <th>1</th>\n",
       "      <td>Data/ChopinKeyboard/Chop-28-8.mid</td>\n",
       "      <td>channel  note  velocity  time note_type  ...</td>\n",
       "      <td>chopin</td>\n",
       "    </tr>\n",
       "    <tr>\n",
       "      <th>2</th>\n",
       "      <td>Data/ChopinKeyboard/Chop-28-8.mid</td>\n",
       "      <td>channel  note  velocity  time note_type ...</td>\n",
       "      <td>chopin</td>\n",
       "    </tr>\n",
       "    <tr>\n",
       "      <th>3</th>\n",
       "      <td>Data/ChopinKeyboard/Chop-28-8.mid</td>\n",
       "      <td>channel  note  velocity  time note_type ...</td>\n",
       "      <td>chopin</td>\n",
       "    </tr>\n",
       "    <tr>\n",
       "      <th>4</th>\n",
       "      <td>Data/ChopinKeyboard/Chop-28-8.mid</td>\n",
       "      <td>channel  note  velocity  time note_type ...</td>\n",
       "      <td>chopin</td>\n",
       "    </tr>\n",
       "    <tr>\n",
       "      <th>...</th>\n",
       "      <td>...</td>\n",
       "      <td>...</td>\n",
       "      <td>...</td>\n",
       "    </tr>\n",
       "    <tr>\n",
       "      <th>7615</th>\n",
       "      <td>Data/RachmaninoffKeyboard/rach-prelude23-08.mid</td>\n",
       "      <td>channel  note  velocity  time note_type ...</td>\n",
       "      <td>rachmaninoff</td>\n",
       "    </tr>\n",
       "    <tr>\n",
       "      <th>7616</th>\n",
       "      <td>Data/RachmaninoffKeyboard/rach-prelude23-08.mid</td>\n",
       "      <td>channel  note  velocity  time note_type ...</td>\n",
       "      <td>rachmaninoff</td>\n",
       "    </tr>\n",
       "    <tr>\n",
       "      <th>7617</th>\n",
       "      <td>Data/RachmaninoffKeyboard/rach-prelude23-08.mid</td>\n",
       "      <td>channel  note  velocity  time note_type ...</td>\n",
       "      <td>rachmaninoff</td>\n",
       "    </tr>\n",
       "    <tr>\n",
       "      <th>7618</th>\n",
       "      <td>Data/RachmaninoffKeyboard/rach-prelude23-08.mid</td>\n",
       "      <td>channel  note  velocity  time note_type ...</td>\n",
       "      <td>rachmaninoff</td>\n",
       "    </tr>\n",
       "    <tr>\n",
       "      <th>7619</th>\n",
       "      <td>Data/RachmaninoffKeyboard/rach-prelude23-08.mid</td>\n",
       "      <td>channel  note  velocity  time note_type ...</td>\n",
       "      <td>rachmaninoff</td>\n",
       "    </tr>\n",
       "  </tbody>\n",
       "</table>\n",
       "<p>7620 rows × 3 columns</p>\n",
       "</div>"
      ],
      "text/plain": [
       "                                             filename  \\\n",
       "0                   Data/ChopinKeyboard/Chop-28-8.mid   \n",
       "1                   Data/ChopinKeyboard/Chop-28-8.mid   \n",
       "2                   Data/ChopinKeyboard/Chop-28-8.mid   \n",
       "3                   Data/ChopinKeyboard/Chop-28-8.mid   \n",
       "4                   Data/ChopinKeyboard/Chop-28-8.mid   \n",
       "...                                               ...   \n",
       "7615  Data/RachmaninoffKeyboard/rach-prelude23-08.mid   \n",
       "7616  Data/RachmaninoffKeyboard/rach-prelude23-08.mid   \n",
       "7617  Data/RachmaninoffKeyboard/rach-prelude23-08.mid   \n",
       "7618  Data/RachmaninoffKeyboard/rach-prelude23-08.mid   \n",
       "7619  Data/RachmaninoffKeyboard/rach-prelude23-08.mid   \n",
       "\n",
       "                                                   data      Composer  \n",
       "0          channel  note  velocity  time note_type  ...        chopin  \n",
       "1          channel  note  velocity  time note_type  ...        chopin  \n",
       "2           channel  note  velocity  time note_type ...        chopin  \n",
       "3           channel  note  velocity  time note_type ...        chopin  \n",
       "4           channel  note  velocity  time note_type ...        chopin  \n",
       "...                                                 ...           ...  \n",
       "7615        channel  note  velocity  time note_type ...  rachmaninoff  \n",
       "7616        channel  note  velocity  time note_type ...  rachmaninoff  \n",
       "7617        channel  note  velocity  time note_type ...  rachmaninoff  \n",
       "7618        channel  note  velocity  time note_type ...  rachmaninoff  \n",
       "7619        channel  note  velocity  time note_type ...  rachmaninoff  \n",
       "\n",
       "[7620 rows x 3 columns]"
      ]
     },
     "execution_count": 325,
     "metadata": {},
     "output_type": "execute_result"
    }
   ],
   "source": [
    "#create dataframes of chunks for each composer\n",
    "composer_df = chunk(composer_dfs, n = 5000).reset_index(drop=True)\n",
    "composer_df"
   ]
  },
  {
   "cell_type": "markdown",
   "metadata": {
    "id": "2I_4UP3sLhmo"
   },
   "source": [
    "### Feature Engineering"
   ]
  },
  {
   "cell_type": "code",
   "execution_count": 326,
   "metadata": {
    "id": "WgO26qSi_EoG"
   },
   "outputs": [],
   "source": [
    "def bag_of_words(chunk):\n",
    "    note_values = np.arange(17,109)\n",
    "    bag = chunk['note'].value_counts()\n",
    "    other = pd.Series(0*note_values, index = note_values)\n",
    "    other[bag.index] = bag\n",
    "    return other.values\n",
    "\n",
    "def note_range(chunk):\n",
    "    return chunk['note'].max() - chunk['note'].min()\n",
    "\n",
    "#returns 2 args\n",
    "def jump(chunk):\n",
    "    if len(chunk) <= 1:\n",
    "        return 0\n",
    "    if len(chunk['channel'].unique()) <= 1:\n",
    "        note_diffs = chunk['note'].diff()[1:]\n",
    "    else:\n",
    "        note_diffs = chunk[['channel','note']].groupby('channel').diff().dropna()\n",
    "    note_diffs = note_diffs.values\n",
    "    return np.abs(note_diffs).mean(), note_diffs.mean()\n",
    "\n",
    "#2 args\n",
    "def length(chunk):\n",
    "    return chunk.length.mean(), chunk.length.median()\n",
    "\n",
    "#how many notes are played on the same time out of total notes?\n",
    "def chord_frequency(chunk):\n",
    "  cu = chunk.groupby('cumtime').count()['channel']\n",
    "  return cu[cu > 1].sum() / cu.sum()\n",
    "\n",
    "#how wide chords are in the chunk\n",
    "def chord_spread_mean(chunk):\n",
    "    cu = chunk[['cumtime','note']].groupby('cumtime')\n",
    "    cu = cu.max() - cu.min()\n",
    "    pos = cu.note > 0\n",
    "    if (pos > 0).any():\n",
    "        return cu[pos].note.mean()\n",
    "    else:\n",
    "        return 0\n",
    "\n",
    "bag_cols = str(list(range(17,109)))[1:-1].replace(',','')\n",
    "#each feature generates a dataframe\n",
    "feat = {bag_cols:bag_of_words,\n",
    "        'range':note_range,  \n",
    "        'abs_avg_jump avg_jump':jump,\n",
    "        'mean_length median_length':length,\n",
    "        'chord_frequency':chord_frequency,\n",
    "        'chord_spread':chord_spread_mean}\n",
    "\n",
    "#keyfunc is a [key, function] list\n",
    "def apply_feature_func(keyfunc, piece_list):\n",
    "    columns = keyfunc[0].split(' ')\n",
    "    values = Parallel(n_jobs=-1)(delayed(keyfunc[1])(d) for d in tqdm(piece_list, position = 0, leave = True))\n",
    "    return pd.DataFrame(values, columns = columns)\n",
    "    \n",
    "#features is a suite of name:function that create features from chunks\n",
    "def pieces_to_features(piece_df, features = feat):\n",
    "    df = pd.concat([apply_feature_func([k,features[k]], piece_df['data']) for k in features], axis=1)\n",
    "    return piece_df.join(df)"
   ]
  },
  {
   "cell_type": "code",
   "execution_count": 327,
   "metadata": {
    "colab": {
     "base_uri": "https://localhost:8080/",
     "height": 211
    },
    "id": "y4tKtUEh67gn",
    "outputId": "71df4a4b-acaa-43e1-dd71-c06b7c06073f"
   },
   "outputs": [
    {
     "name": "stderr",
     "output_type": "stream",
     "text": [
      "100%|██████████| 7620/7620 [00:03<00:00, 1971.93it/s]\n",
      "100%|██████████| 7620/7620 [00:01<00:00, 5559.86it/s]\n",
      "100%|██████████| 7620/7620 [00:08<00:00, 874.87it/s] \n",
      "100%|██████████| 7620/7620 [00:01<00:00, 5299.69it/s]\n",
      "100%|██████████| 7620/7620 [00:03<00:00, 2197.66it/s]\n",
      "100%|██████████| 7620/7620 [00:05<00:00, 1326.81it/s]\n"
     ]
    },
    {
     "data": {
      "text/html": [
       "<div>\n",
       "<style scoped>\n",
       "    .dataframe tbody tr th:only-of-type {\n",
       "        vertical-align: middle;\n",
       "    }\n",
       "\n",
       "    .dataframe tbody tr th {\n",
       "        vertical-align: top;\n",
       "    }\n",
       "\n",
       "    .dataframe thead th {\n",
       "        text-align: right;\n",
       "    }\n",
       "</style>\n",
       "<table border=\"1\" class=\"dataframe\">\n",
       "  <thead>\n",
       "    <tr style=\"text-align: right;\">\n",
       "      <th></th>\n",
       "      <th>filename</th>\n",
       "      <th>Composer</th>\n",
       "      <th>17</th>\n",
       "      <th>18</th>\n",
       "      <th>19</th>\n",
       "      <th>20</th>\n",
       "      <th>21</th>\n",
       "      <th>22</th>\n",
       "      <th>23</th>\n",
       "      <th>24</th>\n",
       "      <th>...</th>\n",
       "      <th>106</th>\n",
       "      <th>107</th>\n",
       "      <th>108</th>\n",
       "      <th>range</th>\n",
       "      <th>abs_avg_jump</th>\n",
       "      <th>avg_jump</th>\n",
       "      <th>mean_length</th>\n",
       "      <th>median_length</th>\n",
       "      <th>chord_frequency</th>\n",
       "      <th>chord_spread</th>\n",
       "    </tr>\n",
       "  </thead>\n",
       "  <tbody>\n",
       "    <tr>\n",
       "      <th>0</th>\n",
       "      <td>Data/ChopinKeyboard/Chop-28-8.mid</td>\n",
       "      <td>chopin</td>\n",
       "      <td>0</td>\n",
       "      <td>0</td>\n",
       "      <td>0</td>\n",
       "      <td>0</td>\n",
       "      <td>0</td>\n",
       "      <td>0</td>\n",
       "      <td>0</td>\n",
       "      <td>0</td>\n",
       "      <td>...</td>\n",
       "      <td>0</td>\n",
       "      <td>0</td>\n",
       "      <td>0</td>\n",
       "      <td>50</td>\n",
       "      <td>7.410405</td>\n",
       "      <td>0.000000</td>\n",
       "      <td>80.274286</td>\n",
       "      <td>64.0</td>\n",
       "      <td>0.400000</td>\n",
       "      <td>15.200000</td>\n",
       "    </tr>\n",
       "    <tr>\n",
       "      <th>1</th>\n",
       "      <td>Data/ChopinKeyboard/Chop-28-8.mid</td>\n",
       "      <td>chopin</td>\n",
       "      <td>0</td>\n",
       "      <td>0</td>\n",
       "      <td>0</td>\n",
       "      <td>0</td>\n",
       "      <td>0</td>\n",
       "      <td>0</td>\n",
       "      <td>0</td>\n",
       "      <td>0</td>\n",
       "      <td>...</td>\n",
       "      <td>0</td>\n",
       "      <td>0</td>\n",
       "      <td>0</td>\n",
       "      <td>48</td>\n",
       "      <td>7.232558</td>\n",
       "      <td>-0.046512</td>\n",
       "      <td>79.264368</td>\n",
       "      <td>64.0</td>\n",
       "      <td>0.402299</td>\n",
       "      <td>12.171429</td>\n",
       "    </tr>\n",
       "    <tr>\n",
       "      <th>2</th>\n",
       "      <td>Data/ChopinKeyboard/Chop-28-8.mid</td>\n",
       "      <td>chopin</td>\n",
       "      <td>0</td>\n",
       "      <td>0</td>\n",
       "      <td>0</td>\n",
       "      <td>0</td>\n",
       "      <td>0</td>\n",
       "      <td>0</td>\n",
       "      <td>0</td>\n",
       "      <td>0</td>\n",
       "      <td>...</td>\n",
       "      <td>0</td>\n",
       "      <td>0</td>\n",
       "      <td>0</td>\n",
       "      <td>49</td>\n",
       "      <td>7.614035</td>\n",
       "      <td>-0.152047</td>\n",
       "      <td>79.167630</td>\n",
       "      <td>64.0</td>\n",
       "      <td>0.404624</td>\n",
       "      <td>19.971429</td>\n",
       "    </tr>\n",
       "    <tr>\n",
       "      <th>3</th>\n",
       "      <td>Data/ChopinKeyboard/Chop-28-8.mid</td>\n",
       "      <td>chopin</td>\n",
       "      <td>0</td>\n",
       "      <td>0</td>\n",
       "      <td>0</td>\n",
       "      <td>0</td>\n",
       "      <td>0</td>\n",
       "      <td>0</td>\n",
       "      <td>0</td>\n",
       "      <td>0</td>\n",
       "      <td>...</td>\n",
       "      <td>0</td>\n",
       "      <td>0</td>\n",
       "      <td>0</td>\n",
       "      <td>51</td>\n",
       "      <td>7.988372</td>\n",
       "      <td>-0.093023</td>\n",
       "      <td>78.528736</td>\n",
       "      <td>64.0</td>\n",
       "      <td>0.390805</td>\n",
       "      <td>18.588235</td>\n",
       "    </tr>\n",
       "    <tr>\n",
       "      <th>4</th>\n",
       "      <td>Data/ChopinKeyboard/Chop-28-8.mid</td>\n",
       "      <td>chopin</td>\n",
       "      <td>0</td>\n",
       "      <td>0</td>\n",
       "      <td>0</td>\n",
       "      <td>0</td>\n",
       "      <td>0</td>\n",
       "      <td>0</td>\n",
       "      <td>0</td>\n",
       "      <td>0</td>\n",
       "      <td>...</td>\n",
       "      <td>0</td>\n",
       "      <td>0</td>\n",
       "      <td>0</td>\n",
       "      <td>41</td>\n",
       "      <td>7.818713</td>\n",
       "      <td>0.064327</td>\n",
       "      <td>79.352601</td>\n",
       "      <td>64.0</td>\n",
       "      <td>0.404624</td>\n",
       "      <td>10.911765</td>\n",
       "    </tr>\n",
       "  </tbody>\n",
       "</table>\n",
       "<p>5 rows × 101 columns</p>\n",
       "</div>"
      ],
      "text/plain": [
       "                            filename Composer  17  18  19  20  21  22  23  24  \\\n",
       "0  Data/ChopinKeyboard/Chop-28-8.mid   chopin   0   0   0   0   0   0   0   0   \n",
       "1  Data/ChopinKeyboard/Chop-28-8.mid   chopin   0   0   0   0   0   0   0   0   \n",
       "2  Data/ChopinKeyboard/Chop-28-8.mid   chopin   0   0   0   0   0   0   0   0   \n",
       "3  Data/ChopinKeyboard/Chop-28-8.mid   chopin   0   0   0   0   0   0   0   0   \n",
       "4  Data/ChopinKeyboard/Chop-28-8.mid   chopin   0   0   0   0   0   0   0   0   \n",
       "\n",
       "   ...  106  107  108  range  abs_avg_jump  avg_jump  mean_length  \\\n",
       "0  ...    0    0    0     50      7.410405  0.000000    80.274286   \n",
       "1  ...    0    0    0     48      7.232558 -0.046512    79.264368   \n",
       "2  ...    0    0    0     49      7.614035 -0.152047    79.167630   \n",
       "3  ...    0    0    0     51      7.988372 -0.093023    78.528736   \n",
       "4  ...    0    0    0     41      7.818713  0.064327    79.352601   \n",
       "\n",
       "   median_length  chord_frequency  chord_spread  \n",
       "0           64.0         0.400000     15.200000  \n",
       "1           64.0         0.402299     12.171429  \n",
       "2           64.0         0.404624     19.971429  \n",
       "3           64.0         0.390805     18.588235  \n",
       "4           64.0         0.404624     10.911765  \n",
       "\n",
       "[5 rows x 101 columns]"
      ]
     },
     "execution_count": 327,
     "metadata": {},
     "output_type": "execute_result"
    }
   ],
   "source": [
    "all_data = pieces_to_features(composer_df)\n",
    "all_data.drop(columns='data',inplace=True)\n",
    "all_data.head(5)"
   ]
  },
  {
   "cell_type": "code",
   "execution_count": 328,
   "metadata": {
    "colab": {
     "base_uri": "https://localhost:8080/",
     "height": 194
    },
    "id": "hua0TS56KysP",
    "outputId": "ee90f4cf-e5ff-42b7-8ad8-d3de1f8b3c51"
   },
   "outputs": [
    {
     "data": {
      "text/html": [
       "<div>\n",
       "<style scoped>\n",
       "    .dataframe tbody tr th:only-of-type {\n",
       "        vertical-align: middle;\n",
       "    }\n",
       "\n",
       "    .dataframe tbody tr th {\n",
       "        vertical-align: top;\n",
       "    }\n",
       "\n",
       "    .dataframe thead th {\n",
       "        text-align: right;\n",
       "    }\n",
       "</style>\n",
       "<table border=\"1\" class=\"dataframe\">\n",
       "  <thead>\n",
       "    <tr style=\"text-align: right;\">\n",
       "      <th></th>\n",
       "      <th>filename</th>\n",
       "      <th>Composer</th>\n",
       "      <th>17</th>\n",
       "      <th>18</th>\n",
       "      <th>19</th>\n",
       "      <th>20</th>\n",
       "      <th>21</th>\n",
       "      <th>22</th>\n",
       "      <th>23</th>\n",
       "      <th>24</th>\n",
       "      <th>...</th>\n",
       "      <th>107</th>\n",
       "      <th>108</th>\n",
       "      <th>range</th>\n",
       "      <th>abs_avg_jump</th>\n",
       "      <th>avg_jump</th>\n",
       "      <th>mean_length</th>\n",
       "      <th>median_length</th>\n",
       "      <th>chord_frequency</th>\n",
       "      <th>chord_spread</th>\n",
       "      <th>Era</th>\n",
       "    </tr>\n",
       "  </thead>\n",
       "  <tbody>\n",
       "    <tr>\n",
       "      <th>0</th>\n",
       "      <td>Data/ChopinKeyboard/Chop-28-8.mid</td>\n",
       "      <td>chopin</td>\n",
       "      <td>0</td>\n",
       "      <td>0</td>\n",
       "      <td>0</td>\n",
       "      <td>0</td>\n",
       "      <td>0</td>\n",
       "      <td>0</td>\n",
       "      <td>0</td>\n",
       "      <td>0</td>\n",
       "      <td>...</td>\n",
       "      <td>0</td>\n",
       "      <td>0</td>\n",
       "      <td>50</td>\n",
       "      <td>7.410405</td>\n",
       "      <td>0.000000</td>\n",
       "      <td>80.274286</td>\n",
       "      <td>64.0</td>\n",
       "      <td>0.400000</td>\n",
       "      <td>15.200000</td>\n",
       "      <td>Romantic</td>\n",
       "    </tr>\n",
       "    <tr>\n",
       "      <th>1</th>\n",
       "      <td>Data/ChopinKeyboard/Chop-28-8.mid</td>\n",
       "      <td>chopin</td>\n",
       "      <td>0</td>\n",
       "      <td>0</td>\n",
       "      <td>0</td>\n",
       "      <td>0</td>\n",
       "      <td>0</td>\n",
       "      <td>0</td>\n",
       "      <td>0</td>\n",
       "      <td>0</td>\n",
       "      <td>...</td>\n",
       "      <td>0</td>\n",
       "      <td>0</td>\n",
       "      <td>48</td>\n",
       "      <td>7.232558</td>\n",
       "      <td>-0.046512</td>\n",
       "      <td>79.264368</td>\n",
       "      <td>64.0</td>\n",
       "      <td>0.402299</td>\n",
       "      <td>12.171429</td>\n",
       "      <td>Romantic</td>\n",
       "    </tr>\n",
       "  </tbody>\n",
       "</table>\n",
       "<p>2 rows × 102 columns</p>\n",
       "</div>"
      ],
      "text/plain": [
       "                            filename Composer  17  18  19  20  21  22  23  24  \\\n",
       "0  Data/ChopinKeyboard/Chop-28-8.mid   chopin   0   0   0   0   0   0   0   0   \n",
       "1  Data/ChopinKeyboard/Chop-28-8.mid   chopin   0   0   0   0   0   0   0   0   \n",
       "\n",
       "   ...  107  108  range  abs_avg_jump  avg_jump  mean_length  median_length  \\\n",
       "0  ...    0    0     50      7.410405  0.000000    80.274286           64.0   \n",
       "1  ...    0    0     48      7.232558 -0.046512    79.264368           64.0   \n",
       "\n",
       "   chord_frequency  chord_spread       Era  \n",
       "0         0.400000     15.200000  Romantic  \n",
       "1         0.402299     12.171429  Romantic  \n",
       "\n",
       "[2 rows x 102 columns]"
      ]
     },
     "execution_count": 328,
     "metadata": {},
     "output_type": "execute_result"
    }
   ],
   "source": [
    "#optional-add time period as a possible response variable\n",
    "composer_eras = {'bach':'Baroque',\n",
    "                 'beethoven':'Classical',\n",
    "                 'chopin':'Romantic',\n",
    "                 'mozart':'Classical',\n",
    "                 'schubert':'Romantic',\n",
    "                 'schumann':'Romantic',\n",
    "                 'satie':'Modernist',\n",
    "                 'czerny':'Romantic',\n",
    "                 'scarlatti':'Baroque',\n",
    "                 'debussy':'Modernist',\n",
    "                 'liszt':'Romantic',\n",
    "                 'rachmaninoff':'Romantic'}\n",
    "\n",
    "labels = [composer_eras[c] for c in all_data['Composer']]\n",
    "all_data['Era'] = labels\n",
    "all_data.head(2)"
   ]
  },
  {
   "cell_type": "code",
   "execution_count": 329,
   "metadata": {
    "colab": {
     "base_uri": "https://localhost:8080/"
    },
    "id": "zqMkefSrCpii",
    "outputId": "2301f700-3ce3-489d-a2fb-9e1f233d2825"
   },
   "outputs": [
    {
     "data": {
      "text/plain": [
       "['Data/manycomposers_5000']"
      ]
     },
     "execution_count": 329,
     "metadata": {},
     "output_type": "execute_result"
    }
   ],
   "source": [
    "#drop the notes that aren't played\n",
    "all_data = all_data.reset_index()\n",
    "for col in all_data.columns:\n",
    "  if (all_data[col] == 0).all():\n",
    "    all_data.drop(columns = col, inplace = True)\n",
    "dump(all_data, 'Data/manycomposers_5000')"
   ]
  },
  {
   "cell_type": "code",
   "execution_count": 330,
   "metadata": {
    "colab": {
     "base_uri": "https://localhost:8080/"
    },
    "id": "K3j_U4ROtOfS",
    "outputId": "1ab3c5c5-a02a-4aef-fd42-162e71d1bcc2"
   },
   "outputs": [
    {
     "data": {
      "text/plain": [
       "False"
      ]
     },
     "execution_count": 330,
     "metadata": {},
     "output_type": "execute_result"
    }
   ],
   "source": [
    "#verify non-null\n",
    "all_data.isnull().any().any()"
   ]
  },
  {
   "cell_type": "code",
   "execution_count": null,
   "metadata": {},
   "outputs": [],
   "source": []
  }
 ],
 "metadata": {
  "colab": {
   "collapsed_sections": [
    "GKZaCQaQLpSB",
    "H54zQgCBLvj6",
    "I34DerpKml2K"
   ],
   "name": "cleaning_piano_midis.ipynb",
   "provenance": []
  },
  "kernelspec": {
   "display_name": "Python 3 (ipykernel)",
   "language": "python",
   "name": "python3"
  },
  "language_info": {
   "codemirror_mode": {
    "name": "ipython",
    "version": 3
   },
   "file_extension": ".py",
   "mimetype": "text/x-python",
   "name": "python",
   "nbconvert_exporter": "python",
   "pygments_lexer": "ipython3",
   "version": "3.9.5"
  }
 },
 "nbformat": 4,
 "nbformat_minor": 4
}
